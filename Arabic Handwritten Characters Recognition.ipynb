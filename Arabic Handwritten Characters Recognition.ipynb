{
 "cells": [
  {
   "cell_type": "code",
   "execution_count": 1,
   "metadata": {
    "_cell_guid": "b1076dfc-b9ad-4769-8c92-a6c4dae69d19",
    "_uuid": "8f2839f25d086af736a60e9eeb907d3b93b6e0e5",
    "execution": {
     "iopub.execute_input": "2021-11-23T21:17:03.811537Z",
     "iopub.status.busy": "2021-11-23T21:17:03.811093Z",
     "iopub.status.idle": "2021-11-23T21:17:03.815354Z",
     "shell.execute_reply": "2021-11-23T21:17:03.814771Z",
     "shell.execute_reply.started": "2021-11-23T21:17:03.811491Z"
    }
   },
   "outputs": [],
   "source": [
    "# For example, here's several helpful packages to load\n",
    "# url of Competition and data:\n",
    "#     https://www.kaggle.com/c/arabic-hwr-ai-pro-intake1/overview\n"
   ]
  },
  {
   "cell_type": "markdown",
   "metadata": {},
   "source": [
    "# Import Libraries"
   ]
  },
  {
   "cell_type": "code",
   "execution_count": 2,
   "metadata": {
    "execution": {
     "iopub.execute_input": "2021-11-23T21:17:03.817233Z",
     "iopub.status.busy": "2021-11-23T21:17:03.816818Z",
     "iopub.status.idle": "2021-11-23T21:17:03.829239Z",
     "shell.execute_reply": "2021-11-23T21:17:03.828663Z",
     "shell.execute_reply.started": "2021-11-23T21:17:03.817202Z"
    }
   },
   "outputs": [],
   "source": [
    "import pandas as pd \n",
    "import matplotlib.pyplot as plt\n",
    "import tensorflow as tf\n",
    "from tensorflow.keras import layers\n",
    "import os\n",
    "import cv2"
   ]
  },
  {
   "cell_type": "markdown",
   "metadata": {},
   "source": [
    "## Reading Files"
   ]
  },
  {
   "cell_type": "code",
   "execution_count": 177,
   "metadata": {
    "execution": {
     "iopub.execute_input": "2021-11-23T21:17:03.861747Z",
     "iopub.status.busy": "2021-11-23T21:17:03.859461Z",
     "iopub.status.idle": "2021-11-23T21:17:03.878742Z",
     "shell.execute_reply": "2021-11-23T21:17:03.877876Z",
     "shell.execute_reply.started": "2021-11-23T21:17:03.861701Z"
    }
   },
   "outputs": [],
   "source": [
    "train_path=\"..//input//arabic-hwr-ai-pro-intake1//train\"\n",
    "test_path=\"..//input/arabic-hwr-ai-pro-intake1//test\"\n",
    "train=pd.read_csv(\"..//input//arabic-hwr-ai-pro-intake1//train.csv\")\n",
    "test=pd.read_csv(\"..//input//arabic-hwr-ai-pro-intake1//test.csv\")"
   ]
  },
  {
   "cell_type": "code",
   "execution_count": 179,
   "metadata": {
    "execution": {
     "iopub.execute_input": "2021-11-23T21:18:55.306688Z",
     "iopub.status.busy": "2021-11-23T21:18:55.306195Z",
     "iopub.status.idle": "2021-11-23T21:18:55.651859Z",
     "shell.execute_reply": "2021-11-23T21:18:55.651072Z",
     "shell.execute_reply.started": "2021-11-23T21:18:55.306629Z"
    }
   },
   "outputs": [],
   "source": [
    "train_dict={}\n",
    "for k,v in train.iterrows():\n",
    "    train_dict[v.id]=v.label\n",
    "    \n",
    "\n",
    "files=[]\n",
    "labels=[]\n",
    "test_files=[]\n",
    "for file in os.listdir(train_path):\n",
    "    files.append(file)\n",
    "    labels.append(train_dict[int(file.split(\".\")[0])])\n",
    "    \n",
    "train_df=pd.DataFrame({\"images\":files,\"labels\":labels})\n",
    "\n",
    "\n",
    "for file in os.listdir(test_path):\n",
    "    test_files.append(file)\n",
    "    \n",
    "test_df=pd.DataFrame({\"images\":test_files})\n"
   ]
  },
  {
   "cell_type": "code",
   "execution_count": 183,
   "metadata": {
    "execution": {
     "iopub.execute_input": "2021-11-23T21:30:49.091890Z",
     "iopub.status.busy": "2021-11-23T21:30:49.091068Z",
     "iopub.status.idle": "2021-11-23T21:31:19.308927Z",
     "shell.execute_reply": "2021-11-23T21:31:19.308272Z",
     "shell.execute_reply.started": "2021-11-23T21:30:49.091842Z"
    }
   },
   "outputs": [],
   "source": [
    "lst1=[]\n",
    "for k,v in train_df.iterrows():\n",
    "    img=cv2.imread(train_path+\"//\"+train_df[\"images\"][k])\n",
    "    lst1.append(img)\n",
    "\n",
    "train_df[\"array_images\"]=pd.DataFrame({\"array_images\":lst1})\n",
    "\n",
    "lst2=[]\n",
    "for k,v in test_df.iterrows():\n",
    "    img=cv2.imread(train_path+\"//\"+test_df[\"images\"][k])\n",
    "    lst2.append(img)\n",
    "\n",
    "test_df[\"array_images\"]=pd.DataFrame({\"array_images\":lst2})\n"
   ]
  },
  {
   "cell_type": "code",
   "execution_count": 186,
   "metadata": {
    "execution": {
     "iopub.execute_input": "2021-11-23T21:32:42.051668Z",
     "iopub.status.busy": "2021-11-23T21:32:42.051221Z",
     "iopub.status.idle": "2021-11-23T21:32:42.059905Z",
     "shell.execute_reply": "2021-11-23T21:32:42.058840Z",
     "shell.execute_reply.started": "2021-11-23T21:32:42.051622Z"
    }
   },
   "outputs": [],
   "source": [
    "train_df=train_df.drop(columns=[\"images\"])\n",
    "test_df=test_df.drop(columns=[\"images\"])\n"
   ]
  },
  {
   "cell_type": "code",
   "execution_count": 188,
   "metadata": {
    "execution": {
     "iopub.execute_input": "2021-11-23T21:33:35.954106Z",
     "iopub.status.busy": "2021-11-23T21:33:35.953804Z",
     "iopub.status.idle": "2021-11-23T21:33:37.670144Z",
     "shell.execute_reply": "2021-11-23T21:33:37.668936Z",
     "shell.execute_reply.started": "2021-11-23T21:33:35.954073Z"
    }
   },
   "outputs": [],
   "source": [
    "train_df.head()"
   ]
  },
  {
   "cell_type": "markdown",
   "metadata": {},
   "source": [
    "## Data Splitting"
   ]
  },
  {
   "cell_type": "code",
   "execution_count": 189,
   "metadata": {
    "execution": {
     "iopub.execute_input": "2021-11-23T21:34:03.552847Z",
     "iopub.status.busy": "2021-11-23T21:34:03.552280Z",
     "iopub.status.idle": "2021-11-23T21:34:03.563601Z",
     "shell.execute_reply": "2021-11-23T21:34:03.562884Z",
     "shell.execute_reply.started": "2021-11-23T21:34:03.552803Z"
    }
   },
   "outputs": [],
   "source": [
    "from sklearn.model_selection import train_test_split\n",
    "X_train,X_valid,y_train,y_valid=train_test_split(train_df[\"array_images\"],train_df[\"labels\"],test_size=.2,shuffle=True,random_state=42)"
   ]
  },
  {
   "cell_type": "code",
   "execution_count": 193,
   "metadata": {
    "execution": {
     "iopub.execute_input": "2021-11-23T21:36:50.866742Z",
     "iopub.status.busy": "2021-11-23T21:36:50.866419Z",
     "iopub.status.idle": "2021-11-23T21:36:50.903204Z",
     "shell.execute_reply": "2021-11-23T21:36:50.902497Z",
     "shell.execute_reply.started": "2021-11-23T21:36:50.866705Z"
    }
   },
   "outputs": [],
   "source": [
    "shape_lst=[]\n",
    "for image in X_train:\n",
    "    shape_lst.append(image.shape)\n",
    "pd.DataFrame(shape_lst).value_counts()"
   ]
  },
  {
   "cell_type": "code",
   "execution_count": 203,
   "metadata": {
    "execution": {
     "iopub.execute_input": "2021-11-23T21:40:58.402635Z",
     "iopub.status.busy": "2021-11-23T21:40:58.402354Z",
     "iopub.status.idle": "2021-11-23T21:40:58.407650Z",
     "shell.execute_reply": "2021-11-23T21:40:58.406867Z",
     "shell.execute_reply.started": "2021-11-23T21:40:58.402604Z"
    }
   },
   "outputs": [],
   "source": [
    "a=X_train.to_list()"
   ]
  },
  {
   "cell_type": "markdown",
   "metadata": {},
   "source": [
    "# Data Visualization"
   ]
  },
  {
   "cell_type": "code",
   "execution_count": 205,
   "metadata": {
    "execution": {
     "iopub.execute_input": "2021-11-23T21:41:24.230517Z",
     "iopub.status.busy": "2021-11-23T21:41:24.230214Z",
     "iopub.status.idle": "2021-11-23T21:41:25.540266Z",
     "shell.execute_reply": "2021-11-23T21:41:25.539393Z",
     "shell.execute_reply.started": "2021-11-23T21:41:24.230486Z"
    }
   },
   "outputs": [],
   "source": [
    "plt.figure(figsize=(15,15))\n",
    "for i in range(10):\n",
    "    plt.subplot(4,4,i+1)\n",
    "    plt.imshow(a[i])\n"
   ]
  },
  {
   "cell_type": "markdown",
   "metadata": {},
   "source": [
    "# Building Your Model"
   ]
  },
  {
   "cell_type": "code",
   "execution_count": 258,
   "metadata": {
    "execution": {
     "iopub.execute_input": "2021-11-23T23:04:28.828280Z",
     "iopub.status.busy": "2021-11-23T23:04:28.827995Z",
     "iopub.status.idle": "2021-11-23T23:04:29.057802Z",
     "shell.execute_reply": "2021-11-23T23:04:29.057120Z",
     "shell.execute_reply.started": "2021-11-23T23:04:28.828249Z"
    }
   },
   "outputs": [],
   "source": [
    "from keras.models import Sequential\n",
    "from keras.layers import Conv2D, MaxPooling2D, Dropout, Flatten, Dense, Activation, BatchNormalization\n",
    "\n",
    "model = Sequential()\n",
    "\n",
    "model.add(Conv2D(32, (3, 3), activation='relu', input_shape=(32, 32, 3)))\n",
    "model.add(BatchNormalization())\n",
    "model.add(MaxPooling2D(pool_size=(2, 2)))\n",
    "model.add(Dropout(0.2))\n",
    "\n",
    "model.add(Conv2D(64, (3, 3), activation='relu'))\n",
    "model.add(BatchNormalization())\n",
    "model.add(MaxPooling2D(pool_size=(2, 2)))\n",
    "model.add(Dropout(0.2))\n",
    "\n",
    "model.add(Conv2D(128, (3, 3), activation='relu'))\n",
    "model.add(BatchNormalization())\n",
    "model.add(MaxPooling2D(pool_size=(2, 2)))\n",
    "model.add(Dropout(0.2))\n",
    "\n",
    "model.add(Flatten())\n",
    "model.add(Dense(512, activation='relu'))\n",
    "model.add(BatchNormalization())\n",
    "\n",
    "model.add(Dropout(0.25))\n",
    "\n",
    "model.add(Dense(256, activation='relu'))\n",
    "model.add(BatchNormalization())\n",
    "model.add(Dropout(0.2))\n",
    "\n",
    "model.add(Dense(128, activation='relu'))\n",
    "model.add(BatchNormalization())\n",
    "model.add(Dropout(0.2))\n",
    "\n",
    "\n",
    "model.add(Dense(64, activation='relu'))\n",
    "model.add(BatchNormalization())\n",
    "model.add(Dropout(0.3))\n",
    "          \n",
    "model.add(Dense(29, activation='softmax')) # 2 because we have cat and dog classes\n",
    "\n",
    "model.compile(loss='sparse_categorical_crossentropy', optimizer=tf.keras.optimizers.Adam(\n",
    "    learning_rate=0.001, beta_1=0.9, beta_2=0.999, epsilon=1e-07,name='Adam'), metrics=['accuracy'])\n",
    "\n",
    "model.summary()"
   ]
  },
  {
   "cell_type": "markdown",
   "metadata": {},
   "source": [
    "# Data augmantation"
   ]
  },
  {
   "cell_type": "code",
   "execution_count": 259,
   "metadata": {
    "execution": {
     "iopub.execute_input": "2021-11-23T23:04:29.809114Z",
     "iopub.status.busy": "2021-11-23T23:04:29.808833Z",
     "iopub.status.idle": "2021-11-23T23:04:29.909497Z",
     "shell.execute_reply": "2021-11-23T23:04:29.908751Z",
     "shell.execute_reply.started": "2021-11-23T23:04:29.809084Z"
    }
   },
   "outputs": [],
   "source": [
    "\n",
    "from keras.preprocessing.image import ImageDataGenerator\n",
    "from tensorflow.keras.callbacks import ReduceLROnPlateau, EarlyStopping, ModelCheckpoint\n",
    "aug = ImageDataGenerator(\n",
    "        rotation_range=10,  \n",
    "        zoom_range = 0.1, \n",
    "        width_shift_range=0.1,  \n",
    "        height_shift_range=0.1)\n",
    "\n",
    "gen_train = aug.flow(np.array(X_train.to_list()), y_train, batch_size=64)\n",
    "\n",
    "gen_val = aug.flow(np.array(X_valid.to_list()), y_valid, batch_size=64)"
   ]
  },
  {
   "cell_type": "code",
   "execution_count": 260,
   "metadata": {
    "execution": {
     "iopub.execute_input": "2021-11-23T23:04:30.286674Z",
     "iopub.status.busy": "2021-11-23T23:04:30.285722Z",
     "iopub.status.idle": "2021-11-23T23:04:30.292294Z",
     "shell.execute_reply": "2021-11-23T23:04:30.291712Z",
     "shell.execute_reply.started": "2021-11-23T23:04:30.286593Z"
    }
   },
   "outputs": [],
   "source": [
    "early_stopp = tf.keras.callbacks.EarlyStopping(patience=5, restore_best_weights=True)\n",
    "reduce_lr = tf.keras.callbacks.ReduceLROnPlateau(monitor='val_loss',\n",
    "                                                  factor=0.5,\n",
    "                                                  patience=3,\n",
    "                                                  min_lr=0.00005,\n",
    "                                                  verbose=1)"
   ]
  },
  {
   "cell_type": "markdown",
   "metadata": {},
   "source": [
    "# Training Model"
   ]
  },
  {
   "cell_type": "code",
   "execution_count": 261,
   "metadata": {
    "execution": {
     "iopub.execute_input": "2021-11-23T23:04:30.719968Z",
     "iopub.status.busy": "2021-11-23T23:04:30.719248Z",
     "iopub.status.idle": "2021-11-23T23:29:59.084077Z",
     "shell.execute_reply": "2021-11-23T23:29:59.083074Z",
     "shell.execute_reply.started": "2021-11-23T23:04:30.719927Z"
    }
   },
   "outputs": [],
   "source": [
    "history=model.fit(gen_train,epochs=100,validation_data=gen_val,batch_size=512,callbacks=[reduce_lr])"
   ]
  },
  {
   "cell_type": "markdown",
   "metadata": {},
   "source": [
    "# Model Summary"
   ]
  },
  {
   "cell_type": "code",
   "execution_count": 269,
   "metadata": {
    "execution": {
     "iopub.execute_input": "2021-11-23T23:35:14.745746Z",
     "iopub.status.busy": "2021-11-23T23:35:14.745139Z",
     "iopub.status.idle": "2021-11-23T23:35:15.172368Z",
     "shell.execute_reply": "2021-11-23T23:35:15.171401Z",
     "shell.execute_reply.started": "2021-11-23T23:35:14.745702Z"
    }
   },
   "outputs": [],
   "source": [
    "import seaborn as sns\n",
    "sns.set()\n",
    "plt.plot(history.history['loss'],\n",
    "         marker='o',\n",
    "         color=\"green\",\n",
    "         label=\"loss\")\n",
    "\n",
    "plt.plot(history.history['val_loss'],\n",
    "         marker='o',\n",
    "         color=\"orange\", \n",
    "         label=\"val_loss\")\n",
    "plt.legend()\n",
    "plt.show()"
   ]
  },
  {
   "cell_type": "code",
   "execution_count": 270,
   "metadata": {
    "execution": {
     "iopub.execute_input": "2021-11-23T23:35:28.851902Z",
     "iopub.status.busy": "2021-11-23T23:35:28.851601Z",
     "iopub.status.idle": "2021-11-23T23:35:29.116399Z",
     "shell.execute_reply": "2021-11-23T23:35:29.115463Z",
     "shell.execute_reply.started": "2021-11-23T23:35:28.851871Z"
    }
   },
   "outputs": [],
   "source": [
    "plt.plot(history.history['accuracy'],\n",
    "         marker='o',\n",
    "         color=\"green\",\n",
    "         label=\"accuracy\")\n",
    "\n",
    "plt.plot(history.history['val_accuracy'],\n",
    "         marker='o',\n",
    "         color=\"orange\",\n",
    "         label=\"val_accuracy\")\n",
    "\n",
    "plt.legend()\n",
    "plt.show()"
   ]
  },
  {
   "cell_type": "markdown",
   "metadata": {},
   "source": [
    "# Model Evaluation"
   ]
  },
  {
   "cell_type": "code",
   "execution_count": 273,
   "metadata": {
    "execution": {
     "iopub.execute_input": "2021-11-23T23:38:07.942362Z",
     "iopub.status.busy": "2021-11-23T23:38:07.942094Z",
     "iopub.status.idle": "2021-11-23T23:38:11.475003Z",
     "shell.execute_reply": "2021-11-23T23:38:11.474149Z",
     "shell.execute_reply.started": "2021-11-23T23:38:07.942332Z"
    }
   },
   "outputs": [],
   "source": [
    "model.evaluate(np.array(X_train.to_list()),y_train)"
   ]
  },
  {
   "cell_type": "markdown",
   "metadata": {},
   "source": [
    "# Model Prediction"
   ]
  },
  {
   "cell_type": "code",
   "execution_count": 278,
   "metadata": {
    "execution": {
     "iopub.execute_input": "2021-11-23T23:41:55.035744Z",
     "iopub.status.busy": "2021-11-23T23:41:55.035161Z",
     "iopub.status.idle": "2021-11-23T23:41:56.319236Z",
     "shell.execute_reply": "2021-11-23T23:41:56.318540Z",
     "shell.execute_reply.started": "2021-11-23T23:41:55.035694Z"
    }
   },
   "outputs": [],
   "source": [
    "predictions=model.predict(np.array(test_df[\"array_images\"].to_list()))"
   ]
  },
  {
   "cell_type": "code",
   "execution_count": 280,
   "metadata": {
    "execution": {
     "iopub.execute_input": "2021-11-23T23:43:36.019818Z",
     "iopub.status.busy": "2021-11-23T23:43:36.019519Z",
     "iopub.status.idle": "2021-11-23T23:43:36.024531Z",
     "shell.execute_reply": "2021-11-23T23:43:36.023679Z",
     "shell.execute_reply.started": "2021-11-23T23:43:36.019787Z"
    }
   },
   "outputs": [],
   "source": [
    "predictions=np.argmax(predictions,axis=1)"
   ]
  },
  {
   "cell_type": "code",
   "execution_count": 283,
   "metadata": {
    "execution": {
     "iopub.execute_input": "2021-11-23T23:44:27.750975Z",
     "iopub.status.busy": "2021-11-23T23:44:27.750662Z",
     "iopub.status.idle": "2021-11-23T23:44:27.757257Z",
     "shell.execute_reply": "2021-11-23T23:44:27.756239Z",
     "shell.execute_reply.started": "2021-11-23T23:44:27.750942Z"
    }
   },
   "outputs": [],
   "source": [
    "predictions.shape"
   ]
  },
  {
   "cell_type": "code",
   "execution_count": 284,
   "metadata": {
    "execution": {
     "iopub.execute_input": "2021-11-23T23:44:36.770713Z",
     "iopub.status.busy": "2021-11-23T23:44:36.770368Z",
     "iopub.status.idle": "2021-11-23T23:44:36.777921Z",
     "shell.execute_reply": "2021-11-23T23:44:36.777079Z",
     "shell.execute_reply.started": "2021-11-23T23:44:36.770674Z"
    }
   },
   "outputs": [],
   "source": [
    "test_df[\"labels\"]=predictions"
   ]
  },
  {
   "cell_type": "code",
   "execution_count": 285,
   "metadata": {
    "execution": {
     "iopub.execute_input": "2021-11-23T23:45:00.075721Z",
     "iopub.status.busy": "2021-11-23T23:45:00.075395Z",
     "iopub.status.idle": "2021-11-23T23:45:01.785683Z",
     "shell.execute_reply": "2021-11-23T23:45:01.784914Z",
     "shell.execute_reply.started": "2021-11-23T23:45:00.075683Z"
    }
   },
   "outputs": [],
   "source": [
    "test_df.head()"
   ]
  },
  {
   "cell_type": "code",
   "execution_count": null,
   "metadata": {},
   "outputs": [],
   "source": []
  }
 ],
 "metadata": {
  "kernelspec": {
   "display_name": "Python 3",
   "language": "python",
   "name": "python3"
  },
  "language_info": {
   "codemirror_mode": {
    "name": "ipython",
    "version": 3
   },
   "file_extension": ".py",
   "mimetype": "text/x-python",
   "name": "python",
   "nbconvert_exporter": "python",
   "pygments_lexer": "ipython3",
   "version": "3.8.8"
  }
 },
 "nbformat": 4,
 "nbformat_minor": 4
}
